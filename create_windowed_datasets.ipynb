{
 "cells": [
  {
   "cell_type": "markdown",
   "id": "922c8309",
   "metadata": {},
   "source": [
    "# Création de windowed_dataset"
   ]
  },
  {
   "cell_type": "markdown",
   "id": "c6b315af",
   "metadata": {},
   "source": [
    "Ce notebook sert à créer des jeux de données d'entraînement et de tests à partir des miliers de fichiers csv concernant les protéines."
   ]
  },
  {
   "cell_type": "code",
   "execution_count": 1,
   "id": "f95b6ceb",
   "metadata": {},
   "outputs": [],
   "source": [
    "import pandas as pd\n",
    "import numpy as np\n",
    "import os\n",
    "import random"
   ]
  },
  {
   "cell_type": "code",
   "execution_count": 2,
   "id": "98909e0d",
   "metadata": {},
   "outputs": [],
   "source": [
    "train_dir = \"data_train/encode\"\n",
    "test_dir = \"data_test/encode\""
   ]
  },
  {
   "cell_type": "code",
   "execution_count": 3,
   "id": "5c39ebaf",
   "metadata": {},
   "outputs": [],
   "source": [
    "def get_sample_files(data_dir, n, seed=None):\n",
    "    '''\n",
    "    Renvoie une liste de n dataframe provenant de n fichiers tirés au hasard dans le dossier data_dir\n",
    "    '''\n",
    "    if seed is not None:\n",
    "        random.seed(seed)\n",
    "    sample = []\n",
    "    for filename in random.sample(os.listdir(data_dir), n):\n",
    "        f = os.path.join(data_dir, filename)\n",
    "        sample.append(pd.read_csv(f))\n",
    "    random.shuffle(sample)\n",
    "    return sample"
   ]
  },
  {
   "cell_type": "code",
   "execution_count": 4,
   "id": "21235d1e",
   "metadata": {},
   "outputs": [],
   "source": [
    "def new_format(df, win_size):\n",
    "    '''\n",
    "    Renvoie un 2d array correspondant a une version \"windowed\" de la séquence de protéine contenue dans df\n",
    "    '''\n",
    "    X = df.iloc[:win_size].values\n",
    "    X = X.reshape(21 * win_size, order='F')\n",
    "    X = np.expand_dims(X, axis=0)\n",
    "    \n",
    "    n_max = df.shape[0] - win_size + 1\n",
    "    for i in range(1, n_max):\n",
    "        b = df.iloc[i:i+win_size].values\n",
    "        b = b.reshape(21 * win_size, order='F')\n",
    "        b = np.expand_dims(b, axis=0)\n",
    "        X = np.concatenate((X, b), axis=0)\n",
    "    return X"
   ]
  },
  {
   "cell_type": "code",
   "execution_count": 5,
   "id": "1d55bd78",
   "metadata": {},
   "outputs": [],
   "source": [
    "def get_windowed_dataset(data_dir, n, win_size, seed = None):\n",
    "    '''\n",
    "    Enchaîne les fonctions 'get_sample_files', 'new_format' pour chaque dataframe, et concaténe le tout\n",
    "    '''\n",
    "    data = get_sample_files(data_dir, n, seed=seed)\n",
    "    data = [new_format(df, win_size) for df in data]\n",
    "    data = np.concatenate(data)\n",
    "    data = pd.DataFrame(data)\n",
    "    data.columns = [str(i) for i in range(21 * win_size)]\n",
    "    return data"
   ]
  },
  {
   "cell_type": "code",
   "execution_count": 6,
   "id": "df915f24",
   "metadata": {},
   "outputs": [],
   "source": [
    "n = 5000\n",
    "win_size = 10\n",
    "seed = 42\n",
    "\n",
    "train = get_windowed_dataset(train_dir, n, win_size, seed)"
   ]
  },
  {
   "cell_type": "code",
   "execution_count": 7,
   "id": "f36ab77e",
   "metadata": {},
   "outputs": [
    {
     "data": {
      "text/plain": [
       "(1390636, 210)"
      ]
     },
     "execution_count": 7,
     "metadata": {},
     "output_type": "execute_result"
    }
   ],
   "source": [
    "train.shape"
   ]
  },
  {
   "cell_type": "code",
   "execution_count": 8,
   "id": "b09b90e6",
   "metadata": {},
   "outputs": [],
   "source": [
    "train.to_csv('data_train/windowed_dataset/encode_train_5000.csv', index=False)"
   ]
  },
  {
   "cell_type": "code",
   "execution_count": 9,
   "id": "9a77f477",
   "metadata": {},
   "outputs": [],
   "source": [
    "n = 1000\n",
    "win_size = 10\n",
    "\n",
    "random.seed(42)\n",
    "test = get_windowed_dataset(test_dir, n, win_size, seed)"
   ]
  },
  {
   "cell_type": "code",
   "execution_count": 10,
   "id": "940fed09",
   "metadata": {},
   "outputs": [
    {
     "data": {
      "text/plain": [
       "(276312, 210)"
      ]
     },
     "execution_count": 10,
     "metadata": {},
     "output_type": "execute_result"
    }
   ],
   "source": [
    "test.shape"
   ]
  },
  {
   "cell_type": "code",
   "execution_count": 11,
   "id": "08d1d149",
   "metadata": {},
   "outputs": [
    {
     "data": {
      "text/html": [
       "<div>\n",
       "<style scoped>\n",
       "    .dataframe tbody tr th:only-of-type {\n",
       "        vertical-align: middle;\n",
       "    }\n",
       "\n",
       "    .dataframe tbody tr th {\n",
       "        vertical-align: top;\n",
       "    }\n",
       "\n",
       "    .dataframe thead th {\n",
       "        text-align: right;\n",
       "    }\n",
       "</style>\n",
       "<table border=\"1\" class=\"dataframe\">\n",
       "  <thead>\n",
       "    <tr style=\"text-align: right;\">\n",
       "      <th></th>\n",
       "      <th>0</th>\n",
       "      <th>1</th>\n",
       "      <th>2</th>\n",
       "      <th>3</th>\n",
       "      <th>4</th>\n",
       "      <th>5</th>\n",
       "      <th>6</th>\n",
       "      <th>7</th>\n",
       "      <th>8</th>\n",
       "      <th>9</th>\n",
       "      <th>...</th>\n",
       "      <th>200</th>\n",
       "      <th>201</th>\n",
       "      <th>202</th>\n",
       "      <th>203</th>\n",
       "      <th>204</th>\n",
       "      <th>205</th>\n",
       "      <th>206</th>\n",
       "      <th>207</th>\n",
       "      <th>208</th>\n",
       "      <th>209</th>\n",
       "    </tr>\n",
       "  </thead>\n",
       "  <tbody>\n",
       "    <tr>\n",
       "      <th>0</th>\n",
       "      <td>1.0</td>\n",
       "      <td>1.0</td>\n",
       "      <td>0.0</td>\n",
       "      <td>0.0</td>\n",
       "      <td>0.0</td>\n",
       "      <td>0.0</td>\n",
       "      <td>0.0</td>\n",
       "      <td>0.0</td>\n",
       "      <td>0.0</td>\n",
       "      <td>0.0</td>\n",
       "      <td>...</td>\n",
       "      <td>0.0</td>\n",
       "      <td>0.0</td>\n",
       "      <td>0.0</td>\n",
       "      <td>0.0</td>\n",
       "      <td>0.0</td>\n",
       "      <td>0.0</td>\n",
       "      <td>0.0</td>\n",
       "      <td>1.0</td>\n",
       "      <td>0.0</td>\n",
       "      <td>0.0</td>\n",
       "    </tr>\n",
       "    <tr>\n",
       "      <th>1</th>\n",
       "      <td>1.0</td>\n",
       "      <td>0.0</td>\n",
       "      <td>0.0</td>\n",
       "      <td>0.0</td>\n",
       "      <td>0.0</td>\n",
       "      <td>0.0</td>\n",
       "      <td>0.0</td>\n",
       "      <td>0.0</td>\n",
       "      <td>0.0</td>\n",
       "      <td>0.0</td>\n",
       "      <td>...</td>\n",
       "      <td>0.0</td>\n",
       "      <td>0.0</td>\n",
       "      <td>0.0</td>\n",
       "      <td>0.0</td>\n",
       "      <td>0.0</td>\n",
       "      <td>0.0</td>\n",
       "      <td>1.0</td>\n",
       "      <td>0.0</td>\n",
       "      <td>0.0</td>\n",
       "      <td>0.0</td>\n",
       "    </tr>\n",
       "    <tr>\n",
       "      <th>2</th>\n",
       "      <td>0.0</td>\n",
       "      <td>0.0</td>\n",
       "      <td>0.0</td>\n",
       "      <td>0.0</td>\n",
       "      <td>0.0</td>\n",
       "      <td>0.0</td>\n",
       "      <td>0.0</td>\n",
       "      <td>0.0</td>\n",
       "      <td>0.0</td>\n",
       "      <td>0.0</td>\n",
       "      <td>...</td>\n",
       "      <td>0.0</td>\n",
       "      <td>0.0</td>\n",
       "      <td>0.0</td>\n",
       "      <td>0.0</td>\n",
       "      <td>0.0</td>\n",
       "      <td>1.0</td>\n",
       "      <td>0.0</td>\n",
       "      <td>0.0</td>\n",
       "      <td>0.0</td>\n",
       "      <td>0.0</td>\n",
       "    </tr>\n",
       "    <tr>\n",
       "      <th>3</th>\n",
       "      <td>0.0</td>\n",
       "      <td>0.0</td>\n",
       "      <td>0.0</td>\n",
       "      <td>0.0</td>\n",
       "      <td>0.0</td>\n",
       "      <td>0.0</td>\n",
       "      <td>0.0</td>\n",
       "      <td>0.0</td>\n",
       "      <td>0.0</td>\n",
       "      <td>0.0</td>\n",
       "      <td>...</td>\n",
       "      <td>0.0</td>\n",
       "      <td>0.0</td>\n",
       "      <td>0.0</td>\n",
       "      <td>0.0</td>\n",
       "      <td>1.0</td>\n",
       "      <td>0.0</td>\n",
       "      <td>0.0</td>\n",
       "      <td>0.0</td>\n",
       "      <td>0.0</td>\n",
       "      <td>0.0</td>\n",
       "    </tr>\n",
       "    <tr>\n",
       "      <th>4</th>\n",
       "      <td>0.0</td>\n",
       "      <td>0.0</td>\n",
       "      <td>0.0</td>\n",
       "      <td>0.0</td>\n",
       "      <td>0.0</td>\n",
       "      <td>0.0</td>\n",
       "      <td>0.0</td>\n",
       "      <td>0.0</td>\n",
       "      <td>0.0</td>\n",
       "      <td>0.0</td>\n",
       "      <td>...</td>\n",
       "      <td>0.0</td>\n",
       "      <td>0.0</td>\n",
       "      <td>0.0</td>\n",
       "      <td>1.0</td>\n",
       "      <td>0.0</td>\n",
       "      <td>0.0</td>\n",
       "      <td>0.0</td>\n",
       "      <td>0.0</td>\n",
       "      <td>0.0</td>\n",
       "      <td>0.0</td>\n",
       "    </tr>\n",
       "  </tbody>\n",
       "</table>\n",
       "<p>5 rows × 210 columns</p>\n",
       "</div>"
      ],
      "text/plain": [
       "     0    1    2    3    4    5    6    7    8    9  ...  200  201  202  203  \\\n",
       "0  1.0  1.0  0.0  0.0  0.0  0.0  0.0  0.0  0.0  0.0  ...  0.0  0.0  0.0  0.0   \n",
       "1  1.0  0.0  0.0  0.0  0.0  0.0  0.0  0.0  0.0  0.0  ...  0.0  0.0  0.0  0.0   \n",
       "2  0.0  0.0  0.0  0.0  0.0  0.0  0.0  0.0  0.0  0.0  ...  0.0  0.0  0.0  0.0   \n",
       "3  0.0  0.0  0.0  0.0  0.0  0.0  0.0  0.0  0.0  0.0  ...  0.0  0.0  0.0  0.0   \n",
       "4  0.0  0.0  0.0  0.0  0.0  0.0  0.0  0.0  0.0  0.0  ...  0.0  0.0  0.0  1.0   \n",
       "\n",
       "   204  205  206  207  208  209  \n",
       "0  0.0  0.0  0.0  1.0  0.0  0.0  \n",
       "1  0.0  0.0  1.0  0.0  0.0  0.0  \n",
       "2  0.0  1.0  0.0  0.0  0.0  0.0  \n",
       "3  1.0  0.0  0.0  0.0  0.0  0.0  \n",
       "4  0.0  0.0  0.0  0.0  0.0  0.0  \n",
       "\n",
       "[5 rows x 210 columns]"
      ]
     },
     "execution_count": 11,
     "metadata": {},
     "output_type": "execute_result"
    }
   ],
   "source": [
    "test.head()"
   ]
  },
  {
   "cell_type": "code",
   "execution_count": 12,
   "id": "8aae01e9",
   "metadata": {},
   "outputs": [],
   "source": [
    "test.to_csv('data_test/windowed_dataset/encode_test_1000.csv', index=False)"
   ]
  }
 ],
 "metadata": {
  "kernelspec": {
   "display_name": "Python 3 (ipykernel)",
   "language": "python",
   "name": "python3"
  },
  "language_info": {
   "codemirror_mode": {
    "name": "ipython",
    "version": 3
   },
   "file_extension": ".py",
   "mimetype": "text/x-python",
   "name": "python",
   "nbconvert_exporter": "python",
   "pygments_lexer": "ipython3",
   "version": "3.9.13"
  }
 },
 "nbformat": 4,
 "nbformat_minor": 5
}
